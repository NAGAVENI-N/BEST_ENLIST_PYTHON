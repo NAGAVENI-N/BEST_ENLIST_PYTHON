{
 "cells": [
  {
   "cell_type": "code",
   "execution_count": 1,
   "id": "baf934e3",
   "metadata": {},
   "outputs": [
    {
     "name": "stdout",
     "output_type": "stream",
     "text": [
      "Value of a= 500 b= 500 c= 500\n",
      "Divide a by 10: 50.0\n",
      "Multiply b by 50: 10.0\n",
      "Add c value by 60: 560\n"
     ]
    }
   ],
   "source": [
    "# 1. CREATE THREE VARIABLE(a,b,c) TO sAME VALUE OF ANY INTEGER AND DO THE FOLLOWING\n",
    "#a) Divide a by 10\n",
    "#b) Multiply b by 50\n",
    "#c) Add c value by 60\n",
    "\n",
    "a=b=c=500\n",
    "print(\"Value of a=\",a,\"b=\",b,\"c=\",c)\n",
    "print(\"Divide a by 10:\",a/10)\n",
    "print(\"Multiply b by 50:\",b/50)\n",
    "print(\"Add c value by 60:\",c+60)"
   ]
  },
  {
   "cell_type": "code",
   "execution_count": 2,
   "id": "5e8dbe34",
   "metadata": {},
   "outputs": [
    {
     "name": "stdout",
     "output_type": "stream",
     "text": [
      "pqrst\n",
      "after replacing, string is: pqGst\n"
     ]
    }
   ],
   "source": [
    "# 2. CREATE A STRING VARIABLE 0F 5 CHARACTER AND REPLACE THE 3RD CHARACTER WITH 'G'\n",
    "\n",
    "string_var=\"pqrst\"\n",
    "print(string_var)\n",
    "print(\"after replacing, string is:\",string_var.replace(\"r\",\"G\"))"
   ]
  },
  {
   "cell_type": "code",
   "execution_count": 3,
   "id": "16591bbf",
   "metadata": {},
   "outputs": [
    {
     "name": "stdout",
     "output_type": "stream",
     "text": [
      "pqrst\n",
      "after replacing 3rd character, string is: pqGst\n"
     ]
    }
   ],
   "source": [
    "print(string_var)\n",
    "print(\"after replacing 3rd character, string is:\",string_var[:2]+'G'+string_var[3:])"
   ]
  },
  {
   "cell_type": "code",
   "execution_count": 4,
   "id": "a217291b",
   "metadata": {},
   "outputs": [
    {
     "name": "stdout",
     "output_type": "stream",
     "text": [
      "a= 60 b= 98.6\n",
      "a data type <class 'int'> b data type <class 'float'>\n",
      "After converting a to float, a = 60.0\n",
      "After converting b to int, b = 98\n"
     ]
    }
   ],
   "source": [
    "# 3. CREATE TWO VALUES (A,B)OF INT, FLOAT DATA TYPE & CONVERT THE VISE VERSA.\n",
    "#HINT CONVERT A FROM INT TO FLOAT DATATYPE & B FROM FLOAT TO INT DATATYPE\n",
    "\n",
    "a=60\n",
    "b=98.6\n",
    "print(\"a=\",a,\"b=\",b)\n",
    "print(\"a data type\", type (a),\"b data type\", type (b))\n",
    "print(\"After converting a to float, a =\",float(a))\n",
    "print(\"After converting b to int, b =\",int(b))"
   ]
  },
  {
   "cell_type": "code",
   "execution_count": null,
   "id": "80a9065b",
   "metadata": {},
   "outputs": [],
   "source": []
  }
 ],
 "metadata": {
  "kernelspec": {
   "display_name": "Python 3",
   "language": "python",
   "name": "python3"
  },
  "language_info": {
   "codemirror_mode": {
    "name": "ipython",
    "version": 3
   },
   "file_extension": ".py",
   "mimetype": "text/x-python",
   "name": "python",
   "nbconvert_exporter": "python",
   "pygments_lexer": "ipython3",
   "version": "3.9.5"
  }
 },
 "nbformat": 4,
 "nbformat_minor": 5
}
